{
  "nbformat": 4,
  "nbformat_minor": 0,
  "metadata": {
    "colab": {
      "name": "bleu.ipynb",
      "provenance": [],
      "collapsed_sections": []
    },
    "kernelspec": {
      "name": "python3",
      "display_name": "Python 3"
    }
  },
  "cells": [
    {
      "metadata": {
        "id": "cEvHsd4OnnO2"
      },
      "cell_type": "markdown",
      "source": [
        "## BLEU: BiLingual Evaluation Understudy\n",
        "\n",
        "*NLP evaluation metric used in Machine Translation tasks*\n",
        "\n",
        "*Suitable for measuring corpus level similarity*\n",
        "\n",
        "*$n$-gram comparison between words in candidate sentence and reference sentences*\n",
        "\n",
        "*Range: 0 (no match) to 1 (exact match)*"
      ]
    },
    {
      "metadata": {
        "id": "_arqa6LRnzCL"
      },
      "cell_type": "markdown",
      "source": [
        "### 1. Libraries\n",
        "*Install and import necessary libraries*\n"
      ]
    },
    {
      "metadata": {
        "id": "xFOnk5JdnuYQ",
        "outputId": "c343aa97-e255-4901-e1b3-5b22a5487764",
        "colab": {
          "base_uri": "https://localhost:8080/"
        }
      },
      "cell_type": "code",
      "source": [
        "import nltk\n",
        "import nltk.translate.bleu_score as bleu\n",
        "\n",
        "import math\n",
        "import numpy\n",
        "import os\n",
        "\n",
        "try:\n",
        "  nltk.data.find('tokenizers/punkt')\n",
        "except LookupError:\n",
        "  nltk.download('punkt')"
      ],
      "execution_count": 1,
      "outputs": [
        {
          "output_type": "stream",
          "name": "stderr",
          "text": [
            "[nltk_data] Downloading package punkt to /root/nltk_data...\n",
            "[nltk_data]   Unzipping tokenizers/punkt.zip.\n"
          ]
        }
      ]
    },
    {
      "metadata": {
        "id": "SVkfsYSZq_zn"
      },
      "cell_type": "markdown",
      "source": [
        "### 2. Dataset\n",
        "*Array of words: candidate and reference sentences split into words*"
      ]
    },
    {
      "metadata": {
        "id": "Dr9v92X0r9VM"
      },
      "cell_type": "code",
      "source": [
        "hyp = \"/content/real_data.txt\"\n",
        "ref_a = \"/content/genspam_seq.txt\"\n",
        "ref_b = \"/content/genspam_sto.txt\""
      ],
      "execution_count": 2,
      "outputs": []
    },
    {
      "metadata": {
        "id": "PQYjMHOgsyfT"
      },
      "cell_type": "markdown",
      "source": [
        "### 3. *Sentence* score calculation\n",
        "*Compares 1 hypothesis (candidate or source sentence) with 1+ reference sentences, returning the highest score when compared to multiple reference sentences.*"
      ]
    },
    {
      "metadata": {
        "id": "jXGCD-pi-jt5",
        "outputId": "661802b3-5839-4662-c813-228ad2dcc79b",
        "colab": {
          "base_uri": "https://localhost:8080/"
        }
      },
      "cell_type": "code",
      "source": [
        "score_ref_a = bleu.sentence_bleu([ref_a], hyp)\n",
        "print(\"Hyp and ref_a are the same: {}\".format(score_ref_a))\n",
        "score_ref_b = bleu.sentence_bleu([ref_b], hyp)\n",
        "print(\"Hyp and ref_b are different: {}\".format(score_ref_b))\n",
        "score_ref_ab = bleu.sentence_bleu([ref_a, ref_b], hyp)\n",
        "print(\"Hyp vs multiple refs: {}\".format(score_ref_ab))"
      ],
      "execution_count": 8,
      "outputs": [
        {
          "output_type": "stream",
          "name": "stdout",
          "text": [
            "Hyp and ref_a are the same: 0.7400828044922853\n",
            "Hyp and ref_b are different: 8.190757052088229e-155\n",
            "Hyp vs multiple refs: 0.7400828044922853\n"
          ]
        },
        {
          "output_type": "stream",
          "name": "stderr",
          "text": [
            "/usr/local/lib/python3.7/dist-packages/nltk/translate/bleu_score.py:552: UserWarning: \n",
            "The hypothesis contains 0 counts of 3-gram overlaps.\n",
            "Therefore the BLEU score evaluates to 0, independently of\n",
            "how many N-gram overlaps of lower order it contains.\n",
            "Consider using lower n-gram order or use SmoothingFunction()\n",
            "  warnings.warn(_msg)\n",
            "/usr/local/lib/python3.7/dist-packages/nltk/translate/bleu_score.py:552: UserWarning: \n",
            "The hypothesis contains 0 counts of 4-gram overlaps.\n",
            "Therefore the BLEU score evaluates to 0, independently of\n",
            "how many N-gram overlaps of lower order it contains.\n",
            "Consider using lower n-gram order or use SmoothingFunction()\n",
            "  warnings.warn(_msg)\n"
          ]
        }
      ]
    },
    {
      "metadata": {
        "id": "NW9ZXSsSs6bE"
      },
      "cell_type": "markdown",
      "source": [
        "### 4. *Corpus* score calculation\n",
        "*Compares 1 candidate document with multiple sentence and 1+ reference documents also with multiple sentences.*\n",
        "\n",
        "* Different than averaging BLEU scores of each sentence, it calculates the score by *\"summing the numerators and denominators for each hypothesis-reference(s) pairs before the division\"*"
      ]
    },
    {
      "metadata": {
        "id": "XATgeqKPP02p",
        "outputId": "810c4d3a-69a5-485c-dff2-faa0dcc461b5",
        "colab": {
          "base_uri": "https://localhost:8080/"
        }
      },
      "cell_type": "code",
      "source": [
        "score_ref_a = bleu.corpus_bleu([[ref_a]], [hyp])\n",
        "print(\"1 document with 1 reference sentence: {}\".format(score_ref_a))\n",
        "score_ref_a = bleu.corpus_bleu([[ref_a, ref_b]], [hyp])\n",
        "print(\"1 document with 2 reference sentences: {}\".format(score_ref_a))\n",
        "score_ref_a = bleu.corpus_bleu([[ref_a], [ref_b]], [hyp, hyp])\n",
        "print(\"2 documents with 1 reference sentence each: {}\".format(score_ref_a))"
      ],
      "execution_count": 4,
      "outputs": [
        {
          "output_type": "stream",
          "name": "stdout",
          "text": [
            "1 document with 1 reference sentence: 1.0\n",
            "1 document with 2 reference sentences: 1.0\n",
            "2 documents with 1 reference sentence each: 0.8778107713916036\n"
          ]
        }
      ]
    },
    {
      "metadata": {
        "id": "hxgDToMctnTM"
      },
      "cell_type": "markdown",
      "source": [
        "### 5. BLEU-$n$\n",
        "*In BLEU-$n$, $n$-gram scores can be obtained in both **sentence** and **corpus** calculations and they're indicated by the **weights** parameter.*\n",
        "\n",
        "* *weights*: length 4, where each index contains a weight corresponding to its respective $n$-gram.\n",
        "* $n$-gram with $n \\in \\{1, 2, 3, 4\\}$\n",
        "* $\\textit{weights}=(W_{N=1}, W_{N=2}, W_{N=3}, W_{N=4})$\n",
        "\n"
      ]
    },
    {
      "cell_type": "code",
      "source": [
        "score_1gram = bleu.sentence_bleu([ref_b], hyp, weights=(1,0,0,0))\n",
        "score_2gram = bleu.sentence_bleu([ref_b], hyp, weights=(0,1,0,0))\n",
        "score_3gram = bleu.sentence_bleu([ref_b], hyp, weights=(0,0,1,0))\n",
        "score_4gram = bleu.sentence_bleu([ref_b], hyp, weights=(0,0,0,1))\n",
        "print(\"N-grams: 1-{}, 2-{}, 3-{}, 4-{}\".format(score_1gram, score_2gram, score_3gram, score_4gram))"
      ],
      "metadata": {
        "id": "0uzNs194q08S"
      },
      "execution_count": null,
      "outputs": []
    },
    {
      "metadata": {
        "id": "El1PaLtIDQyH"
      },
      "cell_type": "markdown",
      "source": [
        "* Cumulative N-grams: *by default, the score is calculatedby considering all $N$-grams equally in a geometric mean*"
      ]
    },
    {
      "metadata": {
        "id": "ntJ1UkEaP-90",
        "outputId": "fb8b769a-3f40-42e7-8f74-859f042df903",
        "colab": {
          "base_uri": "https://localhost:8080/"
        }
      },
      "cell_type": "code",
      "source": [
        "score_ngram1 = bleu.sentence_bleu([ref_b], hyp)\n",
        "score_ngram = bleu.sentence_bleu([ref_b], hyp, weights=(0.25,0.25,0.25,0.25))\n",
        "score_ngram_geo = (11/11*9/10*6/9*4/8)**0.25\n",
        "print(\"N-grams: {} = {} = \".format(score_ngram1, score_ngram, score_ngram_geo))"
      ],
      "execution_count": 6,
      "outputs": [
        {
          "output_type": "stream",
          "name": "stdout",
          "text": [
            "N-grams: 0.7400828044922853 = 0.7400828044922853 = \n"
          ]
        }
      ]
    },
    {
      "metadata": {
        "id": "oq3WktXzV2I9"
      },
      "cell_type": "markdown",
      "source": [
        "### Further testing"
      ]
    },
    {
      "metadata": {
        "id": "rdVRiZQc-ebC",
        "outputId": "8a3f9149-11df-4c52-d974-3bab5ddf8611",
        "colab": {
          "base_uri": "https://localhost:8080/"
        }
      },
      "cell_type": "code",
      "source": [
        "hyp = str('she read the book because she was interested in world history').split()\n",
        "ref_a = str('she was interested in world history because she read the book').split()\n",
        "hyp_b = str('the book she read was about modern civilizations.').split()\n",
        "ref_b = str('the book she read was about modern civilizations.').split()\n",
        "\n",
        "score_a = bleu.sentence_bleu([ref_a], hyp)\n",
        "score_b = bleu.sentence_bleu([ref_b], hyp_b)\n",
        "score_ab = bleu.sentence_bleu([ref_a], hyp_b)\n",
        "score_ba = bleu.sentence_bleu([ref_b], hyp)\n",
        "score_ref_a = bleu.corpus_bleu([[ref_a], [ref_b]], [hyp, hyp_b])\n",
        "average = (score_a+score_b)/2\n",
        "corpus = math.pow((11+8)/19 * (9+7)/(17) * (6+6)/(9+6) * (4+5)/(8+5), 1/4)\n",
        "print(\"Sent: {}, {}, {}, {} - Corpus {}, {}, {}\".format(score_a, score_b, score_ab, score_ba, score_ref_a, average, corpus))"
      ],
      "execution_count": 7,
      "outputs": [
        {
          "output_type": "stream",
          "name": "stdout",
          "text": [
            "Sent: 0.7400828044922853, 1.0, 6.664457123729399e-155, 8.190757052088229e-155 - Corpus 0.8496988908521796, 0.8700414022461427, 0.8496988908521795\n"
          ]
        },
        {
          "output_type": "stream",
          "name": "stderr",
          "text": [
            "/usr/local/lib/python3.7/dist-packages/nltk/translate/bleu_score.py:552: UserWarning: \n",
            "The hypothesis contains 0 counts of 3-gram overlaps.\n",
            "Therefore the BLEU score evaluates to 0, independently of\n",
            "how many N-gram overlaps of lower order it contains.\n",
            "Consider using lower n-gram order or use SmoothingFunction()\n",
            "  warnings.warn(_msg)\n",
            "/usr/local/lib/python3.7/dist-packages/nltk/translate/bleu_score.py:552: UserWarning: \n",
            "The hypothesis contains 0 counts of 4-gram overlaps.\n",
            "Therefore the BLEU score evaluates to 0, independently of\n",
            "how many N-gram overlaps of lower order it contains.\n",
            "Consider using lower n-gram order or use SmoothingFunction()\n",
            "  warnings.warn(_msg)\n"
          ]
        }
      ]
    },
    {
      "cell_type": "markdown",
      "source": [
        "**Jaccard Diversity Calculation**"
      ],
      "metadata": {
        "id": "A_4WvI_irMLB"
      }
    },
    {
      "cell_type": "code",
      "source": [
        "def Jaccard_Diversity(doc1, doc2): \n",
        "    \n",
        "    # List the unique words in a document\n",
        "    words_doc1 = set(doc1.lower().split()) \n",
        "    words_doc2 = set(doc2.lower().split())\n",
        "    \n",
        "    # Find the intersection of words list of doc1 & doc2\n",
        "    intersection = words_doc1.intersection(words_doc2)\n",
        "\n",
        "    # Find the union of words list of doc1 & doc2\n",
        "    union = words_doc1.union(words_doc2)\n",
        "        \n",
        "    # Calculate Jaccard similarity score \n",
        "    # using length of intersection set divided by length of union set\n",
        "    return float(len(intersection)) / len(union)"
      ],
      "metadata": {
        "id": "BcQBMCo3rJA6"
      },
      "execution_count": null,
      "outputs": []
    },
    {
      "cell_type": "code",
      "source": [
        "print(1-Jaccard_Diversity(hyp,ref_a))"
      ],
      "metadata": {
        "id": "FHOSUjOrsS15"
      },
      "execution_count": null,
      "outputs": []
    }
  ]
}