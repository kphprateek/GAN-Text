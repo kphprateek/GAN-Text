{
  "nbformat": 4,
  "nbformat_minor": 0,
  "metadata": {
    "colab": {
      "name": "CNN.ipynb",
      "provenance": []
    },
    "kernelspec": {
      "name": "python3",
      "display_name": "Python 3"
    },
    "language_info": {
      "name": "python"
    }
  },
  "cells": [
    {
      "cell_type": "code",
      "execution_count": null,
      "metadata": {
        "colab": {
          "base_uri": "https://localhost:8080/"
        },
        "id": "LvjAMDsiAhte",
        "outputId": "64685e88-1bd9-4a29-a4b3-b71dd7d9847e"
      },
      "outputs": [
        {
          "output_type": "stream",
          "name": "stdout",
          "text": [
            "Looking in indexes: https://pypi.org/simple, https://us-python.pkg.dev/colab-wheels/public/simple/\n",
            "Requirement already satisfied: contractions in /usr/local/lib/python3.7/dist-packages (0.1.72)\n",
            "Requirement already satisfied: textsearch>=0.0.21 in /usr/local/lib/python3.7/dist-packages (from contractions) (0.0.21)\n",
            "Requirement already satisfied: pyahocorasick in /usr/local/lib/python3.7/dist-packages (from textsearch>=0.0.21->contractions) (1.4.4)\n",
            "Requirement already satisfied: anyascii in /usr/local/lib/python3.7/dist-packages (from textsearch>=0.0.21->contractions) (0.3.1)\n",
            "Looking in indexes: https://pypi.org/simple, https://us-python.pkg.dev/colab-wheels/public/simple/\n",
            "Requirement already satisfied: textsearch in /usr/local/lib/python3.7/dist-packages (0.0.21)\n",
            "Requirement already satisfied: pyahocorasick in /usr/local/lib/python3.7/dist-packages (from textsearch) (1.4.4)\n",
            "Requirement already satisfied: anyascii in /usr/local/lib/python3.7/dist-packages (from textsearch) (0.3.1)\n",
            "Looking in indexes: https://pypi.org/simple, https://us-python.pkg.dev/colab-wheels/public/simple/\n",
            "Requirement already satisfied: tqdm in /usr/local/lib/python3.7/dist-packages (4.64.0)\n"
          ]
        },
        {
          "output_type": "stream",
          "name": "stderr",
          "text": [
            "[nltk_data] Downloading package punkt to /root/nltk_data...\n",
            "[nltk_data]   Package punkt is already up-to-date!\n"
          ]
        },
        {
          "output_type": "execute_result",
          "data": {
            "text/plain": [
              "True"
            ]
          },
          "metadata": {},
          "execution_count": 105
        }
      ],
      "source": [
        "!pip install contractions\n",
        "!pip install textsearch\n",
        "!pip install tqdm\n",
        "import nltk\n",
        "nltk.download('punkt')"
      ]
    },
    {
      "cell_type": "code",
      "source": [
        "import pandas as pd\n",
        "import numpy as np\n",
        "from tensorflow.keras.models import Sequential\n",
        "from tensorflow.keras.layers import Dense\n",
        "from tensorflow.keras.layers import Flatten\n",
        "from tensorflow.keras.layers import Conv1D\n",
        "from tensorflow.keras.layers import MaxPooling1D\n",
        "from tensorflow.keras.layers import Embedding\n",
        "from tensorflow.keras.preprocessing.text import Tokenizer\n",
        "from tensorflow.keras.preprocessing import sequence\n",
        "from sklearn.preprocessing import LabelEncoder\n",
        "\n",
        "# fix random seed for reproducibility\n",
        "seed = 42\n",
        "np.random.seed(seed)"
      ],
      "metadata": {
        "id": "LDODI_kWAjdN"
      },
      "execution_count": null,
      "outputs": []
    },
    {
      "cell_type": "code",
      "source": [
        "dataset = pd.read_csv(r'/content/imdb_dataset.csv')\n",
        "# dataset_aug=pd.read_excel('/content/actualbleuimdbpositive.xlsx')\n",
        "# dataset_aug1=pd.read_excel('/content/actualbleuimdbpositive.xlsx')\n",
        "dataset.info()"
      ],
      "metadata": {
        "colab": {
          "base_uri": "https://localhost:8080/"
        },
        "id": "dODCVXPkAoKN",
        "outputId": "aebe6331-5383-4e6b-bc96-a2a1a31bc58c"
      },
      "execution_count": null,
      "outputs": [
        {
          "output_type": "stream",
          "name": "stdout",
          "text": [
            "<class 'pandas.core.frame.DataFrame'>\n",
            "RangeIndex: 1999 entries, 0 to 1998\n",
            "Data columns (total 2 columns):\n",
            " #   Column     Non-Null Count  Dtype \n",
            "---  ------     --------------  ----- \n",
            " 0   review     1999 non-null   object\n",
            " 1   sentiment  1999 non-null   object\n",
            "dtypes: object(2)\n",
            "memory usage: 31.4+ KB\n"
          ]
        }
      ]
    },
    {
      "cell_type": "code",
      "source": [
        "dataset_aug.shape"
      ],
      "metadata": {
        "colab": {
          "base_uri": "https://localhost:8080/"
        },
        "id": "ixZHCNOS1qfr",
        "outputId": "c0c31b79-8fd5-4274-c035-da2c364e613a"
      },
      "execution_count": null,
      "outputs": [
        {
          "output_type": "execute_result",
          "data": {
            "text/plain": [
              "(500, 2)"
            ]
          },
          "metadata": {},
          "execution_count": 138
        }
      ]
    },
    {
      "cell_type": "code",
      "source": [
        "dataset_aug= dataset_aug.iloc[:500]\n",
        "dataset_aug.shape\n"
      ],
      "metadata": {
        "colab": {
          "base_uri": "https://localhost:8080/"
        },
        "id": "ZiJH-h0I1Cez",
        "outputId": "2c4c7862-5a61-46f4-ff46-e1032f9cfb12"
      },
      "execution_count": null,
      "outputs": [
        {
          "output_type": "execute_result",
          "data": {
            "text/plain": [
              "(500, 2)"
            ]
          },
          "metadata": {},
          "execution_count": 72
        }
      ]
    },
    {
      "cell_type": "code",
      "source": [
        "dataset_aug"
      ],
      "metadata": {
        "colab": {
          "base_uri": "https://localhost:8080/",
          "height": 424
        },
        "id": "NBVxtY0UbM06",
        "outputId": "8d45e54b-fb4e-4ed1-f74a-d0337a158721"
      },
      "execution_count": null,
      "outputs": [
        {
          "output_type": "execute_result",
          "data": {
            "text/plain": [
              "    sentiment                                             review\n",
              "0    positive  new york city of sky games is fantastic . the ...\n",
              "1    positive  if eagerly hooked up you can see more than onc...\n",
              "2    positive  short spoilers this is a world that is storyte...\n",
              "3    positive  william definitely is a games to be one of my ...\n",
              "4    positive  la des . you know it the best movie for all ag...\n",
              "..        ...                                                ...\n",
              "495  positive  a movie made by both perils and as powerful as...\n",
              "496  positive  with such a small cast with superb actors impr...\n",
              "497  positive  this movie has such a two dimensional step to ...\n",
              "498  positive  in direction and i mean i ve watched the many ...\n",
              "499  positive  mr . do you compare with and here this movie i...\n",
              "\n",
              "[500 rows x 2 columns]"
            ],
            "text/html": [
              "\n",
              "  <div id=\"df-f70a8951-38f6-4ef9-b015-d46c37433e3c\">\n",
              "    <div class=\"colab-df-container\">\n",
              "      <div>\n",
              "<style scoped>\n",
              "    .dataframe tbody tr th:only-of-type {\n",
              "        vertical-align: middle;\n",
              "    }\n",
              "\n",
              "    .dataframe tbody tr th {\n",
              "        vertical-align: top;\n",
              "    }\n",
              "\n",
              "    .dataframe thead th {\n",
              "        text-align: right;\n",
              "    }\n",
              "</style>\n",
              "<table border=\"1\" class=\"dataframe\">\n",
              "  <thead>\n",
              "    <tr style=\"text-align: right;\">\n",
              "      <th></th>\n",
              "      <th>sentiment</th>\n",
              "      <th>review</th>\n",
              "    </tr>\n",
              "  </thead>\n",
              "  <tbody>\n",
              "    <tr>\n",
              "      <th>0</th>\n",
              "      <td>positive</td>\n",
              "      <td>new york city of sky games is fantastic . the ...</td>\n",
              "    </tr>\n",
              "    <tr>\n",
              "      <th>1</th>\n",
              "      <td>positive</td>\n",
              "      <td>if eagerly hooked up you can see more than onc...</td>\n",
              "    </tr>\n",
              "    <tr>\n",
              "      <th>2</th>\n",
              "      <td>positive</td>\n",
              "      <td>short spoilers this is a world that is storyte...</td>\n",
              "    </tr>\n",
              "    <tr>\n",
              "      <th>3</th>\n",
              "      <td>positive</td>\n",
              "      <td>william definitely is a games to be one of my ...</td>\n",
              "    </tr>\n",
              "    <tr>\n",
              "      <th>4</th>\n",
              "      <td>positive</td>\n",
              "      <td>la des . you know it the best movie for all ag...</td>\n",
              "    </tr>\n",
              "    <tr>\n",
              "      <th>...</th>\n",
              "      <td>...</td>\n",
              "      <td>...</td>\n",
              "    </tr>\n",
              "    <tr>\n",
              "      <th>495</th>\n",
              "      <td>positive</td>\n",
              "      <td>a movie made by both perils and as powerful as...</td>\n",
              "    </tr>\n",
              "    <tr>\n",
              "      <th>496</th>\n",
              "      <td>positive</td>\n",
              "      <td>with such a small cast with superb actors impr...</td>\n",
              "    </tr>\n",
              "    <tr>\n",
              "      <th>497</th>\n",
              "      <td>positive</td>\n",
              "      <td>this movie has such a two dimensional step to ...</td>\n",
              "    </tr>\n",
              "    <tr>\n",
              "      <th>498</th>\n",
              "      <td>positive</td>\n",
              "      <td>in direction and i mean i ve watched the many ...</td>\n",
              "    </tr>\n",
              "    <tr>\n",
              "      <th>499</th>\n",
              "      <td>positive</td>\n",
              "      <td>mr . do you compare with and here this movie i...</td>\n",
              "    </tr>\n",
              "  </tbody>\n",
              "</table>\n",
              "<p>500 rows × 2 columns</p>\n",
              "</div>\n",
              "      <button class=\"colab-df-convert\" onclick=\"convertToInteractive('df-f70a8951-38f6-4ef9-b015-d46c37433e3c')\"\n",
              "              title=\"Convert this dataframe to an interactive table.\"\n",
              "              style=\"display:none;\">\n",
              "        \n",
              "  <svg xmlns=\"http://www.w3.org/2000/svg\" height=\"24px\"viewBox=\"0 0 24 24\"\n",
              "       width=\"24px\">\n",
              "    <path d=\"M0 0h24v24H0V0z\" fill=\"none\"/>\n",
              "    <path d=\"M18.56 5.44l.94 2.06.94-2.06 2.06-.94-2.06-.94-.94-2.06-.94 2.06-2.06.94zm-11 1L8.5 8.5l.94-2.06 2.06-.94-2.06-.94L8.5 2.5l-.94 2.06-2.06.94zm10 10l.94 2.06.94-2.06 2.06-.94-2.06-.94-.94-2.06-.94 2.06-2.06.94z\"/><path d=\"M17.41 7.96l-1.37-1.37c-.4-.4-.92-.59-1.43-.59-.52 0-1.04.2-1.43.59L10.3 9.45l-7.72 7.72c-.78.78-.78 2.05 0 2.83L4 21.41c.39.39.9.59 1.41.59.51 0 1.02-.2 1.41-.59l7.78-7.78 2.81-2.81c.8-.78.8-2.07 0-2.86zM5.41 20L4 18.59l7.72-7.72 1.47 1.35L5.41 20z\"/>\n",
              "  </svg>\n",
              "      </button>\n",
              "      \n",
              "  <style>\n",
              "    .colab-df-container {\n",
              "      display:flex;\n",
              "      flex-wrap:wrap;\n",
              "      gap: 12px;\n",
              "    }\n",
              "\n",
              "    .colab-df-convert {\n",
              "      background-color: #E8F0FE;\n",
              "      border: none;\n",
              "      border-radius: 50%;\n",
              "      cursor: pointer;\n",
              "      display: none;\n",
              "      fill: #1967D2;\n",
              "      height: 32px;\n",
              "      padding: 0 0 0 0;\n",
              "      width: 32px;\n",
              "    }\n",
              "\n",
              "    .colab-df-convert:hover {\n",
              "      background-color: #E2EBFA;\n",
              "      box-shadow: 0px 1px 2px rgba(60, 64, 67, 0.3), 0px 1px 3px 1px rgba(60, 64, 67, 0.15);\n",
              "      fill: #174EA6;\n",
              "    }\n",
              "\n",
              "    [theme=dark] .colab-df-convert {\n",
              "      background-color: #3B4455;\n",
              "      fill: #D2E3FC;\n",
              "    }\n",
              "\n",
              "    [theme=dark] .colab-df-convert:hover {\n",
              "      background-color: #434B5C;\n",
              "      box-shadow: 0px 1px 3px 1px rgba(0, 0, 0, 0.15);\n",
              "      filter: drop-shadow(0px 1px 2px rgba(0, 0, 0, 0.3));\n",
              "      fill: #FFFFFF;\n",
              "    }\n",
              "  </style>\n",
              "\n",
              "      <script>\n",
              "        const buttonEl =\n",
              "          document.querySelector('#df-f70a8951-38f6-4ef9-b015-d46c37433e3c button.colab-df-convert');\n",
              "        buttonEl.style.display =\n",
              "          google.colab.kernel.accessAllowed ? 'block' : 'none';\n",
              "\n",
              "        async function convertToInteractive(key) {\n",
              "          const element = document.querySelector('#df-f70a8951-38f6-4ef9-b015-d46c37433e3c');\n",
              "          const dataTable =\n",
              "            await google.colab.kernel.invokeFunction('convertToInteractive',\n",
              "                                                     [key], {});\n",
              "          if (!dataTable) return;\n",
              "\n",
              "          const docLinkHtml = 'Like what you see? Visit the ' +\n",
              "            '<a target=\"_blank\" href=https://colab.research.google.com/notebooks/data_table.ipynb>data table notebook</a>'\n",
              "            + ' to learn more about interactive tables.';\n",
              "          element.innerHTML = '';\n",
              "          dataTable['output_type'] = 'display_data';\n",
              "          await google.colab.output.renderOutput(dataTable, element);\n",
              "          const docLink = document.createElement('div');\n",
              "          docLink.innerHTML = docLinkHtml;\n",
              "          element.appendChild(docLink);\n",
              "        }\n",
              "      </script>\n",
              "    </div>\n",
              "  </div>\n",
              "  "
            ]
          },
          "metadata": {},
          "execution_count": 73
        }
      ]
    },
    {
      "cell_type": "code",
      "source": [
        "n = 20\n",
        "df=dataset.head(int(len(dataset)*(n/100)))\n",
        "# df_negative=dataset[dataset['sentiment']=='negative']\n",
        "# df.shape\n",
        "test_reviews = df['review']\n",
        "test_sentiments = df['sentiment']\n",
        "df.shape"
      ],
      "metadata": {
        "colab": {
          "base_uri": "https://localhost:8080/"
        },
        "id": "FZ72seCAC_ma",
        "outputId": "dbc141b2-1f59-40fa-933e-72afd58491d7"
      },
      "execution_count": null,
      "outputs": [
        {
          "output_type": "execute_result",
          "data": {
            "text/plain": [
              "(399, 2)"
            ]
          },
          "metadata": {},
          "execution_count": 108
        }
      ]
    },
    {
      "cell_type": "code",
      "source": [
        "subset_df = df[df[\"sentiment\"] =='negative']"
      ],
      "metadata": {
        "id": "pKSRSsbvfirW"
      },
      "execution_count": null,
      "outputs": []
    },
    {
      "cell_type": "code",
      "source": [
        "len(subset_df)"
      ],
      "metadata": {
        "colab": {
          "base_uri": "https://localhost:8080/"
        },
        "id": "RtYlJW7ZgT1f",
        "outputId": "df6c3307-0048-46ef-ec8c-f26ee3879ad7"
      },
      "execution_count": null,
      "outputs": [
        {
          "output_type": "execute_result",
          "data": {
            "text/plain": [
              "210"
            ]
          },
          "metadata": {},
          "execution_count": 103
        }
      ]
    },
    {
      "cell_type": "code",
      "source": [
        "print(test_reviews)"
      ],
      "metadata": {
        "colab": {
          "base_uri": "https://localhost:8080/"
        },
        "id": "IU5rOizWFI7Q",
        "outputId": "e4a37027-e957-4670-9b68-e90844f7f5d7"
      },
      "execution_count": null,
      "outputs": [
        {
          "output_type": "stream",
          "name": "stdout",
          "text": [
            "0      One of the other reviewers has mentioned that ...\n",
            "1      A wonderful little production. <br /><br />The...\n",
            "2      I thought this was a wonderful way to spend ti...\n",
            "3      Basically there's a family where a little boy ...\n",
            "4      Petter Mattei's \"Love in the Time of Money\" is...\n",
            "                             ...                        \n",
            "394    Helena Bonham Carter is the center of this mov...\n",
            "395    I commented on this when it first debuted and ...\n",
            "396    Just because someone is under the age of 10 do...\n",
            "397    \"Hey Babu Riba\" is a film about a young woman,...\n",
            "398    After a snowstorm, the roads are blocked and t...\n",
            "Name: review, Length: 399, dtype: object\n"
          ]
        }
      ]
    },
    {
      "cell_type": "code",
      "source": [
        "dataset.drop(df.index, axis=0,inplace=True)"
      ],
      "metadata": {
        "id": "Jv2v7ye5DV42"
      },
      "execution_count": null,
      "outputs": []
    },
    {
      "cell_type": "code",
      "source": [
        "dataset_final=pd.concat([dataset_aug,dataset])"
      ],
      "metadata": {
        "id": "_TNVSR2u5cU9"
      },
      "execution_count": null,
      "outputs": []
    },
    {
      "cell_type": "code",
      "source": [
        "dataset = dataset_final.sample(frac = 1)"
      ],
      "metadata": {
        "id": "cHhvPLUg5jKz"
      },
      "execution_count": null,
      "outputs": []
    },
    {
      "cell_type": "code",
      "source": [
        "dataset.shape"
      ],
      "metadata": {
        "colab": {
          "base_uri": "https://localhost:8080/"
        },
        "id": "WGUnpbuyDYHN",
        "outputId": "290636b8-8e6d-4ca7-b526-df037c0dac13"
      },
      "execution_count": null,
      "outputs": [
        {
          "output_type": "execute_result",
          "data": {
            "text/plain": [
              "(1600, 2)"
            ]
          },
          "metadata": {},
          "execution_count": 141
        }
      ]
    },
    {
      "cell_type": "code",
      "source": [
        "# build train and test datasets\n",
        "reviews = dataset['review'].values\n",
        "sentiments = dataset['sentiment'].values\n",
        "\n",
        "train_reviews = reviews[:1600]\n",
        "train_sentiments = sentiments[:1600]\n",
        "\n",
        "# test_reviews = reviews[1600:]\n",
        "# test_sentiments = sentiments[1600:]"
      ],
      "metadata": {
        "id": "n7m4bYRpAuOf"
      },
      "execution_count": null,
      "outputs": []
    },
    {
      "cell_type": "code",
      "source": [
        "import contractions\n",
        "from bs4 import BeautifulSoup\n",
        "import numpy as np\n",
        "import re\n",
        "import tqdm\n",
        "import unicodedata\n",
        "\n",
        "\n",
        "def strip_html_tags(text):\n",
        "  soup = BeautifulSoup(text, \"html.parser\")\n",
        "  [s.extract() for s in soup(['iframe', 'script'])]\n",
        "  stripped_text = soup.get_text()\n",
        "  stripped_text = re.sub(r'[\\r|\\n|\\r\\n]+', '\\n', stripped_text)\n",
        "  return stripped_text\n",
        "\n",
        "def remove_accented_chars(text):\n",
        "  text = unicodedata.normalize('NFKD', text).encode('ascii', 'ignore').decode('utf-8', 'ignore')\n",
        "  return text\n",
        "\n",
        "def pre_process_corpus(docs):\n",
        "  norm_docs = []\n",
        "  for doc in tqdm.tqdm(docs):\n",
        "    doc = strip_html_tags(doc)\n",
        "    doc = doc.translate(doc.maketrans(\"\\n\\t\\r\", \"   \"))\n",
        "    doc = doc.lower()\n",
        "    doc = remove_accented_chars(doc)\n",
        "    doc = contractions.fix(doc)\n",
        "    # lower case and remove special characters\\whitespaces\n",
        "    doc = re.sub(r'[^a-zA-Z0-9\\s]', '', doc, re.I|re.A)\n",
        "    doc = re.sub(' +', ' ', doc)\n",
        "    doc = doc.strip()  \n",
        "    norm_docs.append(doc)\n",
        "  \n",
        "  return norm_docs"
      ],
      "metadata": {
        "id": "OsCXIiCZBRTJ"
      },
      "execution_count": null,
      "outputs": []
    },
    {
      "cell_type": "code",
      "source": [
        "%%time\n",
        "\n",
        "norm_train_reviews = pre_process_corpus(train_reviews)\n",
        "norm_test_reviews = pre_process_corpus(test_reviews)"
      ],
      "metadata": {
        "colab": {
          "base_uri": "https://localhost:8080/"
        },
        "id": "YC31LvwLBWCi",
        "outputId": "bc9831de-d1ac-4dc8-a1a6-95bcc2eaf9ed"
      },
      "execution_count": null,
      "outputs": [
        {
          "output_type": "stream",
          "name": "stderr",
          "text": [
            "100%|██████████| 1600/1600 [00:00<00:00, 1808.68it/s]\n",
            "100%|██████████| 399/399 [00:00<00:00, 1653.77it/s]"
          ]
        },
        {
          "output_type": "stream",
          "name": "stdout",
          "text": [
            "CPU times: user 1.12 s, sys: 13 ms, total: 1.13 s\n",
            "Wall time: 1.15 s\n"
          ]
        },
        {
          "output_type": "stream",
          "name": "stderr",
          "text": [
            "\n"
          ]
        }
      ]
    },
    {
      "cell_type": "code",
      "source": [
        "t = Tokenizer(oov_token='<UNK>')\n",
        "# fit the tokenizer on the documents\n",
        "t.fit_on_texts(norm_train_reviews)\n",
        "t.word_index['<PAD>'] = 0"
      ],
      "metadata": {
        "id": "8r3gLy41Bao4"
      },
      "execution_count": null,
      "outputs": []
    },
    {
      "cell_type": "code",
      "source": [
        "max([(k, v) for k, v in t.word_index.items()], key = lambda x:x[1]), min([(k, v) for k, v in t.word_index.items()], key = lambda x:x[1]), t.word_index['<UNK>']"
      ],
      "metadata": {
        "colab": {
          "base_uri": "https://localhost:8080/"
        },
        "id": "wN3PmkFbBe4r",
        "outputId": "c09946f2-4ac9-43f6-ae2d-0a170c904b54"
      },
      "execution_count": null,
      "outputs": [
        {
          "output_type": "execute_result",
          "data": {
            "text/plain": [
              "(('toms', 27574), ('<PAD>', 0), 1)"
            ]
          },
          "metadata": {},
          "execution_count": 146
        }
      ]
    },
    {
      "cell_type": "code",
      "source": [
        "train_sequences = t.texts_to_sequences(norm_train_reviews)"
      ],
      "metadata": {
        "id": "80DL2D9DBiU8"
      },
      "execution_count": null,
      "outputs": []
    },
    {
      "cell_type": "code",
      "source": [
        "test_sequences = t.texts_to_sequences(norm_test_reviews)"
      ],
      "metadata": {
        "id": "SFGdNK3GBmSh"
      },
      "execution_count": null,
      "outputs": []
    },
    {
      "cell_type": "code",
      "source": [
        "print(\"Vocabulary size={}\".format(len(t.word_index)))\n",
        "print(\"Number of Documents={}\".format(t.document_count))"
      ],
      "metadata": {
        "colab": {
          "base_uri": "https://localhost:8080/"
        },
        "id": "0C4bH4SDBrrF",
        "outputId": "e006b21b-d75c-45ae-d30f-7bbdfb7636a7"
      },
      "execution_count": null,
      "outputs": [
        {
          "output_type": "stream",
          "name": "stdout",
          "text": [
            "Vocabulary size=27575\n",
            "Number of Documents=1600\n"
          ]
        }
      ]
    },
    {
      "cell_type": "code",
      "source": [
        "import matplotlib.pyplot as plt\n",
        "%matplotlib inline\n",
        "\n",
        "train_lens = [len(s) for s in train_sequences]\n",
        "test_lens = [len(s) for s in test_sequences]\n",
        "\n",
        "fig, ax = plt.subplots(1,2, figsize=(12, 6))\n",
        "h1 = ax[0].hist(train_lens)\n",
        "h2 = ax[1].hist(test_lens)"
      ],
      "metadata": {
        "colab": {
          "base_uri": "https://localhost:8080/",
          "height": 374
        },
        "id": "wo2EAfdpBvmk",
        "outputId": "8ff8e071-ed11-4887-cac6-b2c40a6809e6"
      },
      "execution_count": null,
      "outputs": [
        {
          "output_type": "display_data",
          "data": {
            "text/plain": [
              "<Figure size 864x432 with 2 Axes>"
            ],
            "image/png": "[encoded data removed]"
          },
          "metadata": {
            "needs_background": "light"
          }
        }
      ]
    },
    {
      "cell_type": "code",
      "source": [
        "MAX_SEQUENCE_LENGTH = 1000"
      ],
      "metadata": {
        "id": "FKe8SC5pByr-"
      },
      "execution_count": null,
      "outputs": []
    },
    {
      "cell_type": "code",
      "source": [
        "# pad dataset to a maximum review length in words\n",
        "X_train = sequence.pad_sequences(train_sequences, maxlen=MAX_SEQUENCE_LENGTH)\n",
        "X_test = sequence.pad_sequences(test_sequences, maxlen=MAX_SEQUENCE_LENGTH)\n",
        "X_train.shape, X_test.shape"
      ],
      "metadata": {
        "colab": {
          "base_uri": "https://localhost:8080/"
        },
        "id": "aRMBBTNYByyP",
        "outputId": "a58a5ef7-4fbf-4027-f703-a2ed9726c483"
      },
      "execution_count": null,
      "outputs": [
        {
          "output_type": "execute_result",
          "data": {
            "text/plain": [
              "((1600, 1000), (399, 1000))"
            ]
          },
          "metadata": {},
          "execution_count": 152
        }
      ]
    },
    {
      "cell_type": "code",
      "source": [
        "le = LabelEncoder()\n",
        "num_classes=2 # positive -> 1, negative -> 0"
      ],
      "metadata": {
        "id": "FR8QP3YvB589"
      },
      "execution_count": null,
      "outputs": []
    },
    {
      "cell_type": "code",
      "source": [
        "y_train = le.fit_transform(train_sentiments)\n",
        "y_test = le.transform(test_sentiments)"
      ],
      "metadata": {
        "id": "q2KytqdnB92z"
      },
      "execution_count": null,
      "outputs": []
    },
    {
      "cell_type": "code",
      "source": [
        "VOCAB_SIZE = len(t.word_index)"
      ],
      "metadata": {
        "id": "j6MytclLCAVJ"
      },
      "execution_count": null,
      "outputs": []
    },
    {
      "cell_type": "code",
      "source": [
        "EMBED_SIZE = 300\n",
        "EPOCHS=2\n",
        "BATCH_SIZE=128"
      ],
      "metadata": {
        "id": "PRkze5WlCCzR"
      },
      "execution_count": null,
      "outputs": []
    },
    {
      "cell_type": "code",
      "source": [
        "# create the model\n",
        "model = Sequential()\n",
        "model.add(Embedding(VOCAB_SIZE, EMBED_SIZE, input_length=MAX_SEQUENCE_LENGTH))\n",
        "model.add(Conv1D(filters=128, kernel_size=4, padding='same', activation='relu'))\n",
        "model.add(MaxPooling1D(pool_size=2))\n",
        "model.add(Conv1D(filters=64, kernel_size=4, padding='same', activation='relu'))\n",
        "model.add(MaxPooling1D(pool_size=2))\n",
        "model.add(Conv1D(filters=32, kernel_size=4, padding='same', activation='relu'))\n",
        "model.add(MaxPooling1D(pool_size=2))\n",
        "model.add(Flatten())\n",
        "model.add(Dense(256, activation='relu'))\n",
        "model.add(Dense(1, activation='sigmoid'))\n",
        "model.compile(loss='binary_crossentropy', optimizer='adam', metrics=['accuracy'])\n",
        "model.summary()"
      ],
      "metadata": {
        "colab": {
          "base_uri": "https://localhost:8080/"
        },
        "id": "FB-8pPR1CHHR",
        "outputId": "ee074038-f67e-4bad-df84-2e44cc13bee8"
      },
      "execution_count": null,
      "outputs": [
        {
          "output_type": "stream",
          "name": "stdout",
          "text": [
            "Model: \"sequential_4\"\n",
            "_________________________________________________________________\n",
            " Layer (type)                Output Shape              Param #   \n",
            "=================================================================\n",
            " embedding_4 (Embedding)     (None, 1000, 300)         8272500   \n",
            "                                                                 \n",
            " conv1d_12 (Conv1D)          (None, 1000, 128)         153728    \n",
            "                                                                 \n",
            " max_pooling1d_12 (MaxPoolin  (None, 500, 128)         0         \n",
            " g1D)                                                            \n",
            "                                                                 \n",
            " conv1d_13 (Conv1D)          (None, 500, 64)           32832     \n",
            "                                                                 \n",
            " max_pooling1d_13 (MaxPoolin  (None, 250, 64)          0         \n",
            " g1D)                                                            \n",
            "                                                                 \n",
            " conv1d_14 (Conv1D)          (None, 250, 32)           8224      \n",
            "                                                                 \n",
            " max_pooling1d_14 (MaxPoolin  (None, 125, 32)          0         \n",
            " g1D)                                                            \n",
            "                                                                 \n",
            " flatten_4 (Flatten)         (None, 4000)              0         \n",
            "                                                                 \n",
            " dense_8 (Dense)             (None, 256)               1024256   \n",
            "                                                                 \n",
            " dense_9 (Dense)             (None, 1)                 257       \n",
            "                                                                 \n",
            "=================================================================\n",
            "Total params: 9,491,797\n",
            "Trainable params: 9,491,797\n",
            "Non-trainable params: 0\n",
            "_________________________________________________________________\n"
          ]
        }
      ]
    },
    {
      "cell_type": "code",
      "source": [
        "# Fit the model\n",
        "model.fit(X_train, y_train, \n",
        "          validation_split=0.1,\n",
        "          epochs=EPOCHS, \n",
        "          batch_size=BATCH_SIZE, \n",
        "          verbose=1)"
      ],
      "metadata": {
        "colab": {
          "base_uri": "https://localhost:8080/"
        },
        "id": "zSU5I7zpCJqY",
        "outputId": "7e5cb800-8bb4-40ca-c303-577f5a10f98a"
      },
      "execution_count": null,
      "outputs": [
        {
          "output_type": "stream",
          "name": "stdout",
          "text": [
            "Epoch 1/2\n",
            "12/12 [==============================] - 40s 3s/step - loss: 0.6999 - accuracy: 0.4993 - val_loss: 0.6932 - val_accuracy: 0.5063\n",
            "Epoch 2/2\n",
            "12/12 [==============================] - 38s 3s/step - loss: 0.6916 - accuracy: 0.5104 - val_loss: 0.6943 - val_accuracy: 0.5063\n"
          ]
        },
        {
          "output_type": "execute_result",
          "data": {
            "text/plain": [
              "<keras.callbacks.History at 0x7f47d976d990>"
            ]
          },
          "metadata": {},
          "execution_count": 158
        }
      ]
    },
    {
      "cell_type": "code",
      "source": [
        "# Final evaluation of the model\n",
        "scores = model.evaluate(X_test, y_test, verbose=1)\n",
        "print(\"Accuracy: %.2f%%\" % (scores[1]*100))"
      ],
      "metadata": {
        "colab": {
          "base_uri": "https://localhost:8080/"
        },
        "id": "R8VAS5uvCOfh",
        "outputId": "3070ca68-8531-440b-ac48-8d57129d3345"
      },
      "execution_count": null,
      "outputs": [
        {
          "output_type": "stream",
          "name": "stdout",
          "text": [
            "13/13 [==============================] - 3s 219ms/step - loss: 0.6961 - accuracy: 0.4737\n",
            "Accuracy: 47.37%\n"
          ]
        }
      ]
    },
    {
      "cell_type": "code",
      "source": [
        "# predictions = model.predict_classes(X_test).ravel()\n",
        "# predictions[:10]"
      ],
      "metadata": {
        "id": "a8VZGbtTCSTh"
      },
      "execution_count": null,
      "outputs": []
    },
    {
      "cell_type": "code",
      "source": [
        "predictions = (model.predict(X_test) > 0.5).astype(\"int32\")\n",
        "print(predictions,model.predict(X_test))\n",
        "predictions = ['positive' if item == 1 else 'negative' for item in predictions]"
      ],
      "metadata": {
        "id": "hgIPn-Q2CVeV",
        "colab": {
          "base_uri": "https://localhost:8080/"
        },
        "outputId": "94e7fd2a-7367-4262-933f-2c94d2454354"
      },
      "execution_count": null,
      "outputs": [
        {
          "output_type": "stream",
          "name": "stdout",
          "text": [
            "[[1]\n",
            " [1]\n",
            " [1]\n",
            " [1]\n",
            " [1]\n",
            " [1]\n",
            " [1]\n",
            " [1]\n",
            " [1]\n",
            " [1]\n",
            " [1]\n",
            " [1]\n",
            " [1]\n",
            " [1]\n",
            " [1]\n",
            " [1]\n",
            " [1]\n",
            " [1]\n",
            " [1]\n",
            " [1]\n",
            " [1]\n",
            " [1]\n",
            " [1]\n",
            " [1]\n",
            " [1]\n",
            " [1]\n",
            " [1]\n",
            " [1]\n",
            " [1]\n",
            " [1]\n",
            " [1]\n",
            " [1]\n",
            " [1]\n",
            " [1]\n",
            " [1]\n",
            " [1]\n",
            " [1]\n",
            " [1]\n",
            " [1]\n",
            " [1]\n",
            " [1]\n",
            " [1]\n",
            " [1]\n",
            " [1]\n",
            " [1]\n",
            " [1]\n",
            " [1]\n",
            " [1]\n",
            " [1]\n",
            " [1]\n",
            " [1]\n",
            " [1]\n",
            " [1]\n",
            " [1]\n",
            " [1]\n",
            " [1]\n",
            " [1]\n",
            " [1]\n",
            " [1]\n",
            " [1]\n",
            " [1]\n",
            " [1]\n",
            " [1]\n",
            " [1]\n",
            " [1]\n",
            " [1]\n",
            " [1]\n",
            " [1]\n",
            " [1]\n",
            " [1]\n",
            " [1]\n",
            " [1]\n",
            " [1]\n",
            " [1]\n",
            " [1]\n",
            " [1]\n",
            " [1]\n",
            " [1]\n",
            " [1]\n",
            " [1]\n",
            " [1]\n",
            " [1]\n",
            " [1]\n",
            " [1]\n",
            " [1]\n",
            " [1]\n",
            " [1]\n",
            " [1]\n",
            " [1]\n",
            " [1]\n",
            " [1]\n",
            " [1]\n",
            " [1]\n",
            " [1]\n",
            " [1]\n",
            " [1]\n",
            " [1]\n",
            " [1]\n",
            " [1]\n",
            " [1]\n",
            " [1]\n",
            " [1]\n",
            " [1]\n",
            " [1]\n",
            " [1]\n",
            " [1]\n",
            " [1]\n",
            " [1]\n",
            " [1]\n",
            " [1]\n",
            " [1]\n",
            " [1]\n",
            " [1]\n",
            " [1]\n",
            " [1]\n",
            " [1]\n",
            " [1]\n",
            " [1]\n",
            " [1]\n",
            " [1]\n",
            " [1]\n",
            " [1]\n",
            " [1]\n",
            " [1]\n",
            " [1]\n",
            " [1]\n",
            " [1]\n",
            " [1]\n",
            " [1]\n",
            " [1]\n",
            " [1]\n",
            " [1]\n",
            " [1]\n",
            " [1]\n",
            " [1]\n",
            " [1]\n",
            " [1]\n",
            " [1]\n",
            " [1]\n",
            " [1]\n",
            " [1]\n",
            " [1]\n",
            " [1]\n",
            " [1]\n",
            " [1]\n",
            " [1]\n",
            " [1]\n",
            " [1]\n",
            " [1]\n",
            " [1]\n",
            " [1]\n",
            " [1]\n",
            " [1]\n",
            " [1]\n",
            " [1]\n",
            " [1]\n",
            " [1]\n",
            " [1]\n",
            " [1]\n",
            " [1]\n",
            " [1]\n",
            " [1]\n",
            " [1]\n",
            " [1]\n",
            " [1]\n",
            " [1]\n",
            " [1]\n",
            " [1]\n",
            " [1]\n",
            " [1]\n",
            " [1]\n",
            " [1]\n",
            " [1]\n",
            " [1]\n",
            " [1]\n",
            " [1]\n",
            " [1]\n",
            " [1]\n",
            " [1]\n",
            " [1]\n",
            " [1]\n",
            " [1]\n",
            " [1]\n",
            " [1]\n",
            " [1]\n",
            " [1]\n",
            " [1]\n",
            " [1]\n",
            " [1]\n",
            " [1]\n",
            " [1]\n",
            " [1]\n",
            " [1]\n",
            " [1]\n",
            " [1]\n",
            " [1]\n",
            " [1]\n",
            " [1]\n",
            " [1]\n",
            " [1]\n",
            " [1]\n",
            " [1]\n",
            " [1]\n",
            " [1]\n",
            " [1]\n",
            " [1]\n",
            " [1]\n",
            " [1]\n",
            " [1]\n",
            " [1]\n",
            " [1]\n",
            " [1]\n",
            " [1]\n",
            " [1]\n",
            " [1]\n",
            " [1]\n",
            " [1]\n",
            " [1]\n",
            " [1]\n",
            " [1]\n",
            " [1]\n",
            " [1]\n",
            " [1]\n",
            " [1]\n",
            " [1]\n",
            " [1]\n",
            " [1]\n",
            " [1]\n",
            " [1]\n",
            " [1]\n",
            " [1]\n",
            " [1]\n",
            " [1]\n",
            " [1]\n",
            " [1]\n",
            " [1]\n",
            " [1]\n",
            " [1]\n",
            " [1]\n",
            " [1]\n",
            " [1]\n",
            " [1]\n",
            " [1]\n",
            " [1]\n",
            " [1]\n",
            " [1]\n",
            " [1]\n",
            " [1]\n",
            " [1]\n",
            " [1]\n",
            " [1]\n",
            " [1]\n",
            " [1]\n",
            " [1]\n",
            " [1]\n",
            " [1]\n",
            " [1]\n",
            " [1]\n",
            " [1]\n",
            " [1]\n",
            " [1]\n",
            " [1]\n",
            " [1]\n",
            " [1]\n",
            " [1]\n",
            " [1]\n",
            " [1]\n",
            " [1]\n",
            " [1]\n",
            " [1]\n",
            " [1]\n",
            " [1]\n",
            " [1]\n",
            " [1]\n",
            " [1]\n",
            " [1]\n",
            " [1]\n",
            " [1]\n",
            " [1]\n",
            " [1]\n",
            " [1]\n",
            " [1]\n",
            " [1]\n",
            " [1]\n",
            " [1]\n",
            " [1]\n",
            " [1]\n",
            " [1]\n",
            " [1]\n",
            " [1]\n",
            " [1]\n",
            " [1]\n",
            " [1]\n",
            " [1]\n",
            " [1]\n",
            " [1]\n",
            " [1]\n",
            " [1]\n",
            " [1]\n",
            " [1]\n",
            " [1]\n",
            " [1]\n",
            " [1]\n",
            " [1]\n",
            " [1]\n",
            " [1]\n",
            " [1]\n",
            " [1]\n",
            " [1]\n",
            " [1]\n",
            " [1]\n",
            " [1]\n",
            " [1]\n",
            " [1]\n",
            " [1]\n",
            " [1]\n",
            " [1]\n",
            " [1]\n",
            " [1]\n",
            " [1]\n",
            " [1]\n",
            " [1]\n",
            " [1]\n",
            " [1]\n",
            " [1]\n",
            " [1]\n",
            " [1]\n",
            " [1]\n",
            " [1]\n",
            " [1]\n",
            " [1]\n",
            " [1]\n",
            " [1]\n",
            " [1]\n",
            " [1]\n",
            " [1]\n",
            " [1]\n",
            " [1]\n",
            " [1]\n",
            " [1]\n",
            " [1]\n",
            " [1]\n",
            " [1]\n",
            " [1]\n",
            " [1]\n",
            " [1]\n",
            " [1]\n",
            " [1]\n",
            " [1]\n",
            " [1]\n",
            " [1]\n",
            " [1]\n",
            " [1]\n",
            " [1]\n",
            " [1]\n",
            " [1]\n",
            " [1]\n",
            " [1]\n",
            " [1]\n",
            " [1]\n",
            " [1]\n",
            " [1]\n",
            " [1]\n",
            " [1]\n",
            " [1]\n",
            " [1]\n",
            " [1]\n",
            " [1]\n",
            " [1]\n",
            " [1]\n",
            " [1]\n",
            " [1]\n",
            " [1]\n",
            " [1]\n",
            " [1]\n",
            " [1]\n",
            " [1]\n",
            " [1]\n",
            " [1]\n",
            " [1]\n",
            " [1]\n",
            " [1]\n",
            " [1]\n",
            " [1]\n",
            " [1]\n",
            " [1]\n",
            " [1]\n",
            " [1]\n",
            " [1]\n",
            " [1]\n",
            " [1]\n",
            " [1]\n",
            " [1]\n",
            " [1]\n",
            " [1]\n",
            " [1]\n",
            " [1]\n",
            " [1]\n",
            " [1]] [[0.53805035]\n",
            " [0.5202593 ]\n",
            " [0.5229354 ]\n",
            " [0.52132034]\n",
            " [0.5311111 ]\n",
            " [0.51843274]\n",
            " [0.52234846]\n",
            " [0.5228749 ]\n",
            " [0.51856554]\n",
            " [0.51333237]\n",
            " [0.51762676]\n",
            " [0.52242523]\n",
            " [0.5435958 ]\n",
            " [0.51831275]\n",
            " [0.51601225]\n",
            " [0.52047676]\n",
            " [0.52176756]\n",
            " [0.52629626]\n",
            " [0.51652133]\n",
            " [0.52115315]\n",
            " [0.54231465]\n",
            " [0.525476  ]\n",
            " [0.5175817 ]\n",
            " [0.5375569 ]\n",
            " [0.5217492 ]\n",
            " [0.5183751 ]\n",
            " [0.54899204]\n",
            " [0.5204221 ]\n",
            " [0.5170636 ]\n",
            " [0.5566525 ]\n",
            " [0.5438253 ]\n",
            " [0.5413291 ]\n",
            " [0.5170319 ]\n",
            " [0.56008965]\n",
            " [0.5335672 ]\n",
            " [0.5393847 ]\n",
            " [0.5165393 ]\n",
            " [0.5366157 ]\n",
            " [0.51660705]\n",
            " [0.5336406 ]\n",
            " [0.51724154]\n",
            " [0.529089  ]\n",
            " [0.52300364]\n",
            " [0.53164184]\n",
            " [0.5257665 ]\n",
            " [0.53236634]\n",
            " [0.51791286]\n",
            " [0.5201014 ]\n",
            " [0.56360304]\n",
            " [0.5180868 ]\n",
            " [0.54195154]\n",
            " [0.5538309 ]\n",
            " [0.5202185 ]\n",
            " [0.5181551 ]\n",
            " [0.52682763]\n",
            " [0.526699  ]\n",
            " [0.5273592 ]\n",
            " [0.5249074 ]\n",
            " [0.5491066 ]\n",
            " [0.5451959 ]\n",
            " [0.52232736]\n",
            " [0.5206427 ]\n",
            " [0.5176102 ]\n",
            " [0.51555705]\n",
            " [0.5241156 ]\n",
            " [0.5385028 ]\n",
            " [0.535851  ]\n",
            " [0.51942194]\n",
            " [0.5252586 ]\n",
            " [0.54020566]\n",
            " [0.53221196]\n",
            " [0.5339469 ]\n",
            " [0.53052   ]\n",
            " [0.52417845]\n",
            " [0.5385343 ]\n",
            " [0.52030784]\n",
            " [0.53748536]\n",
            " [0.5566905 ]\n",
            " [0.51970917]\n",
            " [0.53876394]\n",
            " [0.52135384]\n",
            " [0.51950586]\n",
            " [0.5353167 ]\n",
            " [0.54196656]\n",
            " [0.51769334]\n",
            " [0.5202117 ]\n",
            " [0.5391186 ]\n",
            " [0.5203526 ]\n",
            " [0.5251382 ]\n",
            " [0.5392764 ]\n",
            " [0.5214085 ]\n",
            " [0.5238867 ]\n",
            " [0.541409  ]\n",
            " [0.52378565]\n",
            " [0.51987916]\n",
            " [0.53632027]\n",
            " [0.5241736 ]\n",
            " [0.51907456]\n",
            " [0.5228864 ]\n",
            " [0.5517028 ]\n",
            " [0.51866007]\n",
            " [0.56969726]\n",
            " [0.5193583 ]\n",
            " [0.5363449 ]\n",
            " [0.52502805]\n",
            " [0.5328238 ]\n",
            " [0.5183602 ]\n",
            " [0.5374164 ]\n",
            " [0.52186316]\n",
            " [0.51878226]\n",
            " [0.5180065 ]\n",
            " [0.52531534]\n",
            " [0.51537496]\n",
            " [0.51862246]\n",
            " [0.5340014 ]\n",
            " [0.5195464 ]\n",
            " [0.54077476]\n",
            " [0.5163603 ]\n",
            " [0.5178828 ]\n",
            " [0.5378522 ]\n",
            " [0.51815236]\n",
            " [0.52485424]\n",
            " [0.52578634]\n",
            " [0.5195711 ]\n",
            " [0.5202297 ]\n",
            " [0.51851404]\n",
            " [0.54372466]\n",
            " [0.5185765 ]\n",
            " [0.52929616]\n",
            " [0.5210563 ]\n",
            " [0.52608275]\n",
            " [0.545159  ]\n",
            " [0.52124155]\n",
            " [0.5177635 ]\n",
            " [0.52441955]\n",
            " [0.54310435]\n",
            " [0.51672506]\n",
            " [0.5364978 ]\n",
            " [0.535698  ]\n",
            " [0.53664327]\n",
            " [0.54110926]\n",
            " [0.5348762 ]\n",
            " [0.5500372 ]\n",
            " [0.5176877 ]\n",
            " [0.5308338 ]\n",
            " [0.5359229 ]\n",
            " [0.53250694]\n",
            " [0.5375265 ]\n",
            " [0.5190556 ]\n",
            " [0.5361521 ]\n",
            " [0.5232082 ]\n",
            " [0.5243397 ]\n",
            " [0.52572864]\n",
            " [0.52514756]\n",
            " [0.5275705 ]\n",
            " [0.5172112 ]\n",
            " [0.57632256]\n",
            " [0.5192999 ]\n",
            " [0.519281  ]\n",
            " [0.5196698 ]\n",
            " [0.5171138 ]\n",
            " [0.5275541 ]\n",
            " [0.51740885]\n",
            " [0.54709774]\n",
            " [0.5401408 ]\n",
            " [0.5173107 ]\n",
            " [0.51902264]\n",
            " [0.5325957 ]\n",
            " [0.5186021 ]\n",
            " [0.5404173 ]\n",
            " [0.5320189 ]\n",
            " [0.52097046]\n",
            " [0.5521008 ]\n",
            " [0.54018086]\n",
            " [0.53435326]\n",
            " [0.53706145]\n",
            " [0.5268101 ]\n",
            " [0.57128894]\n",
            " [0.5269923 ]\n",
            " [0.5282877 ]\n",
            " [0.52048147]\n",
            " [0.5179725 ]\n",
            " [0.5527098 ]\n",
            " [0.5331313 ]\n",
            " [0.51849335]\n",
            " [0.53809416]\n",
            " [0.54720706]\n",
            " [0.5171393 ]\n",
            " [0.52627265]\n",
            " [0.5532625 ]\n",
            " [0.53911203]\n",
            " [0.5708454 ]\n",
            " [0.51778466]\n",
            " [0.5155244 ]\n",
            " [0.52009785]\n",
            " [0.52170867]\n",
            " [0.5249526 ]\n",
            " [0.5229992 ]\n",
            " [0.54971075]\n",
            " [0.5182313 ]\n",
            " [0.5173048 ]\n",
            " [0.5351105 ]\n",
            " [0.5397673 ]\n",
            " [0.5171037 ]\n",
            " [0.5254388 ]\n",
            " [0.5192948 ]\n",
            " [0.51793075]\n",
            " [0.5179946 ]\n",
            " [0.5208973 ]\n",
            " [0.51693225]\n",
            " [0.5501579 ]\n",
            " [0.51579374]\n",
            " [0.5187188 ]\n",
            " [0.5184163 ]\n",
            " [0.5181659 ]\n",
            " [0.5358679 ]\n",
            " [0.5333639 ]\n",
            " [0.5190438 ]\n",
            " [0.5459458 ]\n",
            " [0.52202237]\n",
            " [0.5177298 ]\n",
            " [0.5321804 ]\n",
            " [0.53923315]\n",
            " [0.53526044]\n",
            " [0.53481925]\n",
            " [0.5296671 ]\n",
            " [0.53956896]\n",
            " [0.5258965 ]\n",
            " [0.5561955 ]\n",
            " [0.52257115]\n",
            " [0.51660377]\n",
            " [0.51584274]\n",
            " [0.5195649 ]\n",
            " [0.51743174]\n",
            " [0.52263004]\n",
            " [0.51834875]\n",
            " [0.51766956]\n",
            " [0.51818293]\n",
            " [0.53555304]\n",
            " [0.5232011 ]\n",
            " [0.51912254]\n",
            " [0.51709723]\n",
            " [0.5195045 ]\n",
            " [0.52015686]\n",
            " [0.5197092 ]\n",
            " [0.5168329 ]\n",
            " [0.5261854 ]\n",
            " [0.5168768 ]\n",
            " [0.52251583]\n",
            " [0.51748025]\n",
            " [0.5186724 ]\n",
            " [0.524773  ]\n",
            " [0.5402102 ]\n",
            " [0.5362707 ]\n",
            " [0.54355544]\n",
            " [0.5376744 ]\n",
            " [0.5173596 ]\n",
            " [0.5448605 ]\n",
            " [0.5506434 ]\n",
            " [0.52972245]\n",
            " [0.54821485]\n",
            " [0.5195011 ]\n",
            " [0.53669596]\n",
            " [0.5803545 ]\n",
            " [0.517613  ]\n",
            " [0.5206978 ]\n",
            " [0.52161735]\n",
            " [0.55319464]\n",
            " [0.51889825]\n",
            " [0.51747346]\n",
            " [0.5336967 ]\n",
            " [0.5226039 ]\n",
            " [0.5408183 ]\n",
            " [0.54136556]\n",
            " [0.5253932 ]\n",
            " [0.52133805]\n",
            " [0.55488354]\n",
            " [0.538712  ]\n",
            " [0.52562624]\n",
            " [0.5170632 ]\n",
            " [0.53575003]\n",
            " [0.51809907]\n",
            " [0.5202747 ]\n",
            " [0.522286  ]\n",
            " [0.52407527]\n",
            " [0.51635236]\n",
            " [0.537252  ]\n",
            " [0.5192849 ]\n",
            " [0.5375611 ]\n",
            " [0.51826495]\n",
            " [0.52184033]\n",
            " [0.51830244]\n",
            " [0.5212363 ]\n",
            " [0.52695864]\n",
            " [0.51775205]\n",
            " [0.54551494]\n",
            " [0.5178721 ]\n",
            " [0.5521245 ]\n",
            " [0.5359381 ]\n",
            " [0.5200546 ]\n",
            " [0.5216094 ]\n",
            " [0.5209089 ]\n",
            " [0.51981944]\n",
            " [0.53442645]\n",
            " [0.5297926 ]\n",
            " [0.5173074 ]\n",
            " [0.5390668 ]\n",
            " [0.5190359 ]\n",
            " [0.51665616]\n",
            " [0.5193847 ]\n",
            " [0.58560866]\n",
            " [0.51853323]\n",
            " [0.51531124]\n",
            " [0.51885974]\n",
            " [0.5430825 ]\n",
            " [0.5350712 ]\n",
            " [0.521437  ]\n",
            " [0.5167114 ]\n",
            " [0.52720207]\n",
            " [0.5387913 ]\n",
            " [0.5835941 ]\n",
            " [0.5190673 ]\n",
            " [0.55811423]\n",
            " [0.5192631 ]\n",
            " [0.51656437]\n",
            " [0.52936417]\n",
            " [0.5177353 ]\n",
            " [0.53497255]\n",
            " [0.519409  ]\n",
            " [0.51609457]\n",
            " [0.5175697 ]\n",
            " [0.51755327]\n",
            " [0.546908  ]\n",
            " [0.5205951 ]\n",
            " [0.52200097]\n",
            " [0.5177071 ]\n",
            " [0.5177481 ]\n",
            " [0.5226548 ]\n",
            " [0.5518378 ]\n",
            " [0.520771  ]\n",
            " [0.5183415 ]\n",
            " [0.5189553 ]\n",
            " [0.52001756]\n",
            " [0.5405357 ]\n",
            " [0.5377523 ]\n",
            " [0.53875685]\n",
            " [0.5242843 ]\n",
            " [0.51664096]\n",
            " [0.52053034]\n",
            " [0.54143065]\n",
            " [0.5373304 ]\n",
            " [0.5175597 ]\n",
            " [0.5394185 ]\n",
            " [0.5590401 ]\n",
            " [0.5305255 ]\n",
            " [0.5205783 ]\n",
            " [0.5346971 ]\n",
            " [0.54273266]\n",
            " [0.51427346]\n",
            " [0.5252196 ]\n",
            " [0.52062064]\n",
            " [0.5256016 ]\n",
            " [0.5374506 ]\n",
            " [0.571921  ]\n",
            " [0.5519867 ]\n",
            " [0.5859581 ]\n",
            " [0.5384613 ]\n",
            " [0.5175599 ]\n",
            " [0.5223986 ]\n",
            " [0.51765317]\n",
            " [0.5223673 ]\n",
            " [0.5416313 ]\n",
            " [0.5357721 ]\n",
            " [0.56551516]\n",
            " [0.5431996 ]\n",
            " [0.53503066]\n",
            " [0.52179563]\n",
            " [0.51655537]\n",
            " [0.5645011 ]\n",
            " [0.5340116 ]\n",
            " [0.5271481 ]\n",
            " [0.5180356 ]\n",
            " [0.5183358 ]\n",
            " [0.5138431 ]\n",
            " [0.53827244]\n",
            " [0.5326169 ]\n",
            " [0.51802254]\n",
            " [0.5352356 ]\n",
            " [0.51608884]\n",
            " [0.5357132 ]\n",
            " [0.5189917 ]\n",
            " [0.5254662 ]\n",
            " [0.5200334 ]\n",
            " [0.5389939 ]\n",
            " [0.5163876 ]\n",
            " [0.5369015 ]\n",
            " [0.52557015]\n",
            " [0.53594214]\n",
            " [0.5188011 ]]\n"
          ]
        }
      ]
    },
    {
      "cell_type": "code",
      "source": [
        "from sklearn.metrics import confusion_matrix, classification_report\n",
        "\n",
        "labels = ['negative', 'positive']\n",
        "print(classification_report(test_sentiments, predictions))\n",
        "pd.DataFrame(confusion_matrix(test_sentiments, predictions), index=labels, columns=labels)"
      ],
      "metadata": {
        "colab": {
          "base_uri": "https://localhost:8080/",
          "height": 392
        },
        "id": "SVbC5Lo-CcbB",
        "outputId": "69065c88-db41-4624-a0b8-a1d632de6b39"
      },
      "execution_count": null,
      "outputs": [
        {
          "output_type": "stream",
          "name": "stdout",
          "text": [
            "              precision    recall  f1-score   support\n",
            "\n",
            "    negative       0.00      0.00      0.00       210\n",
            "    positive       0.47      1.00      0.64       189\n",
            "\n",
            "    accuracy                           0.47       399\n",
            "   macro avg       0.24      0.50      0.32       399\n",
            "weighted avg       0.22      0.47      0.30       399\n",
            "\n"
          ]
        },
        {
          "output_type": "stream",
          "name": "stderr",
          "text": [
            "/usr/local/lib/python3.7/dist-packages/sklearn/metrics/_classification.py:1318: UndefinedMetricWarning: Precision and F-score are ill-defined and being set to 0.0 in labels with no predicted samples. Use `zero_division` parameter to control this behavior.\n",
            "  _warn_prf(average, modifier, msg_start, len(result))\n",
            "/usr/local/lib/python3.7/dist-packages/sklearn/metrics/_classification.py:1318: UndefinedMetricWarning: Precision and F-score are ill-defined and being set to 0.0 in labels with no predicted samples. Use `zero_division` parameter to control this behavior.\n",
            "  _warn_prf(average, modifier, msg_start, len(result))\n",
            "/usr/local/lib/python3.7/dist-packages/sklearn/metrics/_classification.py:1318: UndefinedMetricWarning: Precision and F-score are ill-defined and being set to 0.0 in labels with no predicted samples. Use `zero_division` parameter to control this behavior.\n",
            "  _warn_prf(average, modifier, msg_start, len(result))\n"
          ]
        },
        {
          "output_type": "execute_result",
          "data": {
            "text/plain": [
              "          negative  positive\n",
              "negative         0       210\n",
              "positive         0       189"
            ],
            "text/html": [
              "\n",
              "  <div id=\"df-46adbaa9-2975-4c02-b5ed-13a78edd59cf\">\n",
              "    <div class=\"colab-df-container\">\n",
              "      <div>\n",
              "<style scoped>\n",
              "    .dataframe tbody tr th:only-of-type {\n",
              "        vertical-align: middle;\n",
              "    }\n",
              "\n",
              "    .dataframe tbody tr th {\n",
              "        vertical-align: top;\n",
              "    }\n",
              "\n",
              "    .dataframe thead th {\n",
              "        text-align: right;\n",
              "    }\n",
              "</style>\n",
              "<table border=\"1\" class=\"dataframe\">\n",
              "  <thead>\n",
              "    <tr style=\"text-align: right;\">\n",
              "      <th></th>\n",
              "      <th>negative</th>\n",
              "      <th>positive</th>\n",
              "    </tr>\n",
              "  </thead>\n",
              "  <tbody>\n",
              "    <tr>\n",
              "      <th>negative</th>\n",
              "      <td>0</td>\n",
              "      <td>210</td>\n",
              "    </tr>\n",
              "    <tr>\n",
              "      <th>positive</th>\n",
              "      <td>0</td>\n",
              "      <td>189</td>\n",
              "    </tr>\n",
              "  </tbody>\n",
              "</table>\n",
              "</div>\n",
              "      <button class=\"colab-df-convert\" onclick=\"convertToInteractive('df-46adbaa9-2975-4c02-b5ed-13a78edd59cf')\"\n",
              "              title=\"Convert this dataframe to an interactive table.\"\n",
              "              style=\"display:none;\">\n",
              "        \n",
              "  <svg xmlns=\"http://www.w3.org/2000/svg\" height=\"24px\"viewBox=\"0 0 24 24\"\n",
              "       width=\"24px\">\n",
              "    <path d=\"M0 0h24v24H0V0z\" fill=\"none\"/>\n",
              "    <path d=\"M18.56 5.44l.94 2.06.94-2.06 2.06-.94-2.06-.94-.94-2.06-.94 2.06-2.06.94zm-11 1L8.5 8.5l.94-2.06 2.06-.94-2.06-.94L8.5 2.5l-.94 2.06-2.06.94zm10 10l.94 2.06.94-2.06 2.06-.94-2.06-.94-.94-2.06-.94 2.06-2.06.94z\"/><path d=\"M17.41 7.96l-1.37-1.37c-.4-.4-.92-.59-1.43-.59-.52 0-1.04.2-1.43.59L10.3 9.45l-7.72 7.72c-.78.78-.78 2.05 0 2.83L4 21.41c.39.39.9.59 1.41.59.51 0 1.02-.2 1.41-.59l7.78-7.78 2.81-2.81c.8-.78.8-2.07 0-2.86zM5.41 20L4 18.59l7.72-7.72 1.47 1.35L5.41 20z\"/>\n",
              "  </svg>\n",
              "      </button>\n",
              "      \n",
              "  <style>\n",
              "    .colab-df-container {\n",
              "      display:flex;\n",
              "      flex-wrap:wrap;\n",
              "      gap: 12px;\n",
              "    }\n",
              "\n",
              "    .colab-df-convert {\n",
              "      background-color: #E8F0FE;\n",
              "      border: none;\n",
              "      border-radius: 50%;\n",
              "      cursor: pointer;\n",
              "      display: none;\n",
              "      fill: #1967D2;\n",
              "      height: 32px;\n",
              "      padding: 0 0 0 0;\n",
              "      width: 32px;\n",
              "    }\n",
              "\n",
              "    .colab-df-convert:hover {\n",
              "      background-color: #E2EBFA;\n",
              "      box-shadow: 0px 1px 2px rgba(60, 64, 67, 0.3), 0px 1px 3px 1px rgba(60, 64, 67, 0.15);\n",
              "      fill: #174EA6;\n",
              "    }\n",
              "\n",
              "    [theme=dark] .colab-df-convert {\n",
              "      background-color: #3B4455;\n",
              "      fill: #D2E3FC;\n",
              "    }\n",
              "\n",
              "    [theme=dark] .colab-df-convert:hover {\n",
              "      background-color: #434B5C;\n",
              "      box-shadow: 0px 1px 3px 1px rgba(0, 0, 0, 0.15);\n",
              "      filter: drop-shadow(0px 1px 2px rgba(0, 0, 0, 0.3));\n",
              "      fill: #FFFFFF;\n",
              "    }\n",
              "  </style>\n",
              "\n",
              "      <script>\n",
              "        const buttonEl =\n",
              "          document.querySelector('#df-46adbaa9-2975-4c02-b5ed-13a78edd59cf button.colab-df-convert');\n",
              "        buttonEl.style.display =\n",
              "          google.colab.kernel.accessAllowed ? 'block' : 'none';\n",
              "\n",
              "        async function convertToInteractive(key) {\n",
              "          const element = document.querySelector('#df-46adbaa9-2975-4c02-b5ed-13a78edd59cf');\n",
              "          const dataTable =\n",
              "            await google.colab.kernel.invokeFunction('convertToInteractive',\n",
              "                                                     [key], {});\n",
              "          if (!dataTable) return;\n",
              "\n",
              "          const docLinkHtml = 'Like what you see? Visit the ' +\n",
              "            '<a target=\"_blank\" href=https://colab.research.google.com/notebooks/data_table.ipynb>data table notebook</a>'\n",
              "            + ' to learn more about interactive tables.';\n",
              "          element.innerHTML = '';\n",
              "          dataTable['output_type'] = 'display_data';\n",
              "          await google.colab.output.renderOutput(dataTable, element);\n",
              "          const docLink = document.createElement('div');\n",
              "          docLink.innerHTML = docLinkHtml;\n",
              "          element.appendChild(docLink);\n",
              "        }\n",
              "      </script>\n",
              "    </div>\n",
              "  </div>\n",
              "  "
            ]
          },
          "metadata": {},
          "execution_count": 162
        }
      ]
    },
    {
      "cell_type": "code",
      "source": [
        ""
      ],
      "metadata": {
        "id": "T2z9II79FbBt"
      },
      "execution_count": null,
      "outputs": []
    }
  ]
}